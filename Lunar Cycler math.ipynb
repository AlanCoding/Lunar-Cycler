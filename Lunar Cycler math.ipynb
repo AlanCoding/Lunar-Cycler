{
 "cells": [
  {
   "cell_type": "code",
   "execution_count": 1,
   "metadata": {},
   "outputs": [],
   "source": [
    "from astropy.constants import M_earth, R_earth, G\n",
    "from astropy import units\n",
    "from math import pi, sqrt"
   ]
  },
  {
   "cell_type": "code",
   "execution_count": 2,
   "metadata": {},
   "outputs": [
    {
     "name": "stdout",
     "output_type": "stream",
     "text": [
      "0.0123027869557\n",
      "0.272338157131\n"
     ]
    }
   ],
   "source": [
    "M_moon = 7.34767309e22*units.kg\n",
    "R_moon = 1737.0*units.km\n",
    "print M_moon/M_earth\n",
    "print float(R_moon/R_earth)"
   ]
  },
  {
   "cell_type": "markdown",
   "metadata": {},
   "source": [
    "### Period of eliptical orbit\n",
    "T=2 pi sqrt{a^3 / mu}\n",
    "\n",
    "a - semi-major axis\n",
    "\n",
    "a = (Ra+Rp)/2\n",
    "\n",
    "mu - GM\n",
    "\n",
    "### Orbital energy\n",
    "{v^2 / 2}-{mu / r}=-{\\mu / (2a)}=epsilon<0\n",
    "\n",
    "v1^2 / 2 - mu / r1 = - mu / Ra\n",
    "\n",
    "Ra - radius of apogee\n",
    "\n",
    "### Objective period\n",
    "\n",
    "T = (lunar orbit period) / 3"
   ]
  },
  {
   "cell_type": "code",
   "execution_count": 3,
   "metadata": {},
   "outputs": [],
   "source": [
    "mu = G*M_earth"
   ]
  },
  {
   "cell_type": "code",
   "execution_count": 4,
   "metadata": {},
   "outputs": [],
   "source": [
    "a_moon = 384400*units.km"
   ]
  },
  {
   "cell_type": "code",
   "execution_count": 5,
   "metadata": {},
   "outputs": [],
   "source": [
    "T_moon = (2*pi*(a_moon**3/mu)**(0.5)).decompose()"
   ]
  },
  {
   "cell_type": "code",
   "execution_count": 6,
   "metadata": {},
   "outputs": [
    {
     "data": {
      "text/latex": [
       "$27.451895 \\; \\mathrm{d}$"
      ],
      "text/plain": [
       "<Quantity 27.451895011451835 d>"
      ]
     },
     "execution_count": 6,
     "metadata": {},
     "output_type": "execute_result"
    }
   ],
   "source": [
    "T_moon.to(units.day)"
   ]
  },
  {
   "cell_type": "code",
   "execution_count": 7,
   "metadata": {},
   "outputs": [],
   "source": [
    "T3 = T_moon/3"
   ]
  },
  {
   "cell_type": "code",
   "execution_count": 9,
   "metadata": {},
   "outputs": [],
   "source": [
    "a3 = ((T3/(2.*pi))**2.*mu)**(1./3.)"
   ]
  },
  {
   "cell_type": "code",
   "execution_count": 19,
   "metadata": {},
   "outputs": [
    {
     "name": "stdout",
     "output_type": "stream",
     "text": [
      " -- Calcs for 3 orbits in holding pattern -- \n",
      "0.961499713538\n",
      "Transfer apogee:\n",
      "0.944907361821\n",
      "Lunar perigee:\n",
      "0.945109261186\n",
      "Shortfall:\n",
      "77.6101158885 km\n"
     ]
    }
   ],
   "source": [
    "# Found first number of interest - this is the semi-major axis\n",
    "# for the highly eliptical orbit holding pattern\n",
    "print ' -- Calcs for 3 orbits in holding pattern -- '\n",
    "print float(2*a3/a_moon)  # distance as fraction of moon's orbiting radius\n",
    "# because of extreme ecentricity, this is also 1/2 the apogee of the orbit\n",
    "# try again, but taking into account perigee\n",
    "print \"Transfer apogee:\\n\" + str(float((2*a3-R_earth)/a_moon))\n",
    "print \"Lunar perigee:\\n\" + str(0.3633/0.3844) # https://nssdc.gsfc.nasa.gov/planetary/factsheet/moonfact.html\n",
    "shortfall = (0.3633/0.3844 - float((2*a3-R_earth)/a_moon)) * a_moon\n",
    "print \"Shortfall:\\n\" + str(shortfall)"
   ]
  },
  {
   "cell_type": "code",
   "execution_count": 13,
   "metadata": {},
   "outputs": [
    {
     "name": "stdout",
     "output_type": "stream",
     "text": [
      "1.25992104989\n",
      "0.793700525984\n"
     ]
    }
   ],
   "source": [
    "# same thing, but assuming it only does 2 orbits, and 4 orbits\n",
    "T2 = T_moon/2\n",
    "T4 = T_moon/4\n",
    "a2 = ((T2/(2.*pi))**2.*mu)**(1./3.)\n",
    "a4 = ((T4/(2.*pi))**2.*mu)**(1./3.)\n",
    "print float(2*a2/a_moon)\n",
    "print float(2*a4/a_moon)"
   ]
  },
  {
   "cell_type": "code",
   "execution_count": 72,
   "metadata": {},
   "outputs": [
    {
     "name": "stdout",
     "output_type": "stream",
     "text": [
      "462.51544076 m / s\n"
     ]
    }
   ],
   "source": [
    "# velocity at point of intercepting moon\n",
    "v2int = ((mu/a_moon - mu/(2*a2))**(1./2.)).decompose()\n",
    "print v2int"
   ]
  },
  {
   "cell_type": "code",
   "execution_count": 76,
   "metadata": {},
   "outputs": [
    {
     "name": "stdout",
     "output_type": "stream",
     "text": [
      "1018.30335724 m / s\n"
     ]
    }
   ],
   "source": [
    "vmoon = ((mu/a_moon)**(1./2.)).decompose()\n",
    "print vmoon"
   ]
  },
  {
   "cell_type": "code",
   "execution_count": null,
   "metadata": {},
   "outputs": [],
   "source": []
  },
  {
   "cell_type": "code",
   "execution_count": null,
   "metadata": {},
   "outputs": [],
   "source": []
  },
  {
   "cell_type": "code",
   "execution_count": null,
   "metadata": {},
   "outputs": [],
   "source": []
  }
 ],
 "metadata": {
  "kernelspec": {
   "display_name": "Python 2",
   "language": "python",
   "name": "python2"
  },
  "language_info": {
   "codemirror_mode": {
    "name": "ipython",
    "version": 2
   },
   "file_extension": ".py",
   "mimetype": "text/x-python",
   "name": "python",
   "nbconvert_exporter": "python",
   "pygments_lexer": "ipython2",
   "version": "2.7.11"
  }
 },
 "nbformat": 4,
 "nbformat_minor": 2
}
